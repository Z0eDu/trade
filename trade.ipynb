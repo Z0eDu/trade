{
 "cells": [
  {
   "cell_type": "code",
   "execution_count": 1,
   "metadata": {},
   "outputs": [],
   "source": [
    "import easyquotation\n",
    "import pandas as pd\n",
    "from pandas import ExcelWriter,ExcelFile\n",
    "df=pd.read_excel('origin.xlsx',sheet_name='Sheet1')\n",
    "\n",
    "bond=df['bond']\n",
    "stock=df['stock']\n",
    "relation={}\n",
    "\n",
    "bond=[str(int(i)) for i in bond]\n",
    "stock=[str(int(i)) for i in stock]\n",
    "stock=[(6-len(str(int(i))))*'0'+str(int(i)) for i in stock]\n",
    "#create a dictionary and relate two names\n",
    "for i in range(len(bond)):\n",
    "    relation[bond[i]]=stock[i]"
   ]
  },
  {
   "cell_type": "code",
   "execution_count": 2,
   "metadata": {},
   "outputs": [],
   "source": [
    "import easyquotation\n",
    "quotation = easyquotation.use('sina')\n",
    "#quotation.stocks(['sh000001', 'sz000001'], prefix=True) "
   ]
  },
  {
   "cell_type": "code",
   "execution_count": 3,
   "metadata": {},
   "outputs": [],
   "source": [
    "import numpy as np\n",
    "stocks=quotation.stocks([str(i) for i in stock],prefix=False)\n",
    "close=np.array([stocks[str(i)]['close']for i in stock])\n",
    "closev=close*1.1\n",
    "close98=close*1.098\n",
    "open=np.array([stocks[str(i)]['open']for i in stock])\n",
    "stock=[stock[i] for i in range(len(stock)) if closev[i]>=open[i]]\n",
    "##if open is higher than 1.1 close"
   ]
  },
  {
   "cell_type": "code",
   "execution_count": 1,
   "metadata": {},
   "outputs": [
    {
     "ename": "IndentationError",
     "evalue": "expected an indented block (<ipython-input-1-d7733237fc79>, line 62)",
     "output_type": "error",
     "traceback": [
      "\u001b[1;36m  File \u001b[1;32m\"<ipython-input-1-d7733237fc79>\"\u001b[1;36m, line \u001b[1;32m62\u001b[0m\n\u001b[1;33m    find=True\u001b[0m\n\u001b[1;37m    ^\u001b[0m\n\u001b[1;31mIndentationError\u001b[0m\u001b[1;31m:\u001b[0m expected an indented block\n"
     ]
    }
   ],
   "source": [
    "import easyquotation\n",
    "import pandas as pd\n",
    "from pandas import ExcelWriter,ExcelFile\n",
    "import datetime\n",
    "import time \n",
    "\n",
    "find=False \n",
    "while find==False:\n",
    "\n",
    "    quotation=easyquotation.use('sina')\n",
    "    stocks=quotation.stocks([str(i) for i in stock],prefix=False)\n",
    "    stock_today=[name[i] for i in range(len(stock)) if stocks[stock[i]]['high']>=close98[i]]\n",
    "    bond_today=[]\n",
    "    bond_today=[relation[i] for i in stock_today]\n",
    "    if bond_today!=[]:\n",
    "        price=stocks[bond_today[0]['now']]\n",
    "        expected_volume=100000/stocks[relation[today[0]]['ask5']]\n",
    "        current_left_volume=expected_volume\n",
    "        v1,v2,v3,v4,v5=stocks[bond_today[0]['ask1_volume']],stocks[bond_today[0]['ask2_volume']],stocks[bond_today[0]['ask3_volume']],stocks[bond_today[0]['ask4_volume']],stocks[bond_today[0]['ask5_volume']]\n",
    "        #ask1_volume>volume\n",
    "        if(v1>=current_left_volume):\n",
    "            price=current_left_volume*stocks[bond_today[0]['ask1']]\n",
    "            v1=current_left_volume\n",
    "            v2,v3,v4,v5=0,0,0,0\n",
    "        else:\n",
    "            #volume>ask1_volume\n",
    "            price=v1*stocks[bond_today[0]['ask1']]\n",
    "            #ask2>volume-1\n",
    "            current_left_volume-=v1\n",
    "            if(v2>current_left_volume):\n",
    "                price+=current_left_volume*stocks[bond_today[0]['ask2']]\n",
    "                v2=current_left_volume\n",
    "                v3,v4,v5=0,0,0\n",
    "            #ask2<volume-1\n",
    "            else:\n",
    "                price+=v2*stocks[bond_today[0]['ask2']]\n",
    "                current_left_volume-=v2\n",
    "                if(v3>current_left_volume):\n",
    "                    price+=current_left_volume*stocks[bond_today[0]['ask3']]\n",
    "                    v3=current_left_volume\n",
    "                    v4,v5=0,0\n",
    "                else:\n",
    "                    price+=v3*stocks[bond_today[0]['ask3']]\n",
    "                    current_left_volume-=v3\n",
    "                    if(v4>current_left_volume):\n",
    "                        price+=current_left_volume*stocks[bond_today[0]['ask4']]\n",
    "                        v4=current_left_volume\n",
    "                        v5=0\n",
    "                    else:\n",
    "                        price+=v3*stocks[bond_today[0]['ask4']]\n",
    "                        current_left_volume-=v4\n",
    "                        if(v5>current_left_volume):\n",
    "                            price+=current_left_volume*stocks[bond_today[0]['ask5']]\n",
    "                            v5=current_left_volume\n",
    "                        else:\n",
    "                            price+=v3*stocks[bond_today[0]['ask5']]\n",
    "                            expected_volume=v1+v2+v3+v4+v5\n",
    "        \n",
    "        time=datetime.datetime.now()\n",
    "        sell_all=False\n",
    "        while(relativedelta(datetime.datetime.now(),time).seconds<5):\n",
    "            if (quotation.stocks([bond_today[0]],prefix=False)['now']>=(price+1)):\n",
    "                sell_all=True\n",
    "                \n",
    "                break;\n",
    "                \n",
    "        \n",
    "        find=True\n",
    "\n",
    "    \n",
    "\n",
    "print(today)\n",
    "print(volume)\n",
    "print(stocks[relation[today[0]]['bid5']])\n",
    "time.sleep"
   ]
  },
  {
   "cell_type": "code",
   "execution_count": 59,
   "metadata": {},
   "outputs": [
    {
     "name": "stdout",
     "output_type": "stream",
     "text": [
      "2019-05-21 23:19:59.805890\n",
      "2019-05-21 23:20:01.210720\n"
     ]
    }
   ],
   "source": [
    "import datetime\n",
    "print (str(datetime.datetime.now()))\n",
    "quotation=easyquotation.use('sina')\n",
    "#quotation.market_snapshot(prefix=True)\n",
    "stocks=quotation.stocks([i for i in bond],prefix=False)\n",
    "high=[stocks[str(i)]['high']for i in bond]\n",
    "close=[stocks[str(i)]['close']for i in bond]\n",
    "\n",
    "print (str(datetime.datetime.now()))"
   ]
  },
  {
   "cell_type": "code",
   "execution_count": 18,
   "metadata": {},
   "outputs": [
    {
     "ename": "TypeError",
     "evalue": "'datetime.timedelta' object is not subscriptable",
     "output_type": "error",
     "traceback": [
      "\u001b[1;31m---------------------------------------------------------------------------\u001b[0m",
      "\u001b[1;31mTypeError\u001b[0m                                 Traceback (most recent call last)",
      "\u001b[1;32m<ipython-input-18-793433c77f58>\u001b[0m in \u001b[0;36m<module>\u001b[1;34m()\u001b[0m\n\u001b[0;32m      3\u001b[0m \u001b[1;33m\u001b[0m\u001b[0m\n\u001b[0;32m      4\u001b[0m \u001b[0mtime\u001b[0m\u001b[1;33m=\u001b[0m\u001b[0mdatetime\u001b[0m\u001b[1;33m.\u001b[0m\u001b[0mdatetime\u001b[0m\u001b[1;33m.\u001b[0m\u001b[0mnow\u001b[0m\u001b[1;33m(\u001b[0m\u001b[1;33m)\u001b[0m\u001b[1;33m\u001b[0m\u001b[0m\n\u001b[1;32m----> 5\u001b[1;33m \u001b[1;33m(\u001b[0m\u001b[0mdatetime\u001b[0m\u001b[1;33m.\u001b[0m\u001b[0mdatetime\u001b[0m\u001b[1;33m.\u001b[0m\u001b[0mnow\u001b[0m\u001b[1;33m(\u001b[0m\u001b[1;33m)\u001b[0m\u001b[1;33m-\u001b[0m\u001b[0mtime\u001b[0m\u001b[1;33m)\u001b[0m\u001b[1;33m[\u001b[0m\u001b[1;36m0\u001b[0m\u001b[1;33m]\u001b[0m\u001b[1;33m\u001b[0m\u001b[0m\n\u001b[0m",
      "\u001b[1;31mTypeError\u001b[0m: 'datetime.timedelta' object is not subscriptable"
     ]
    }
   ],
   "source": [
    "import datetime\n",
    "import time \n",
    "\n",
    "time=datetime.datetime.now()\n",
    "(datetime.datetime.now()-time)[0]"
   ]
  },
  {
   "cell_type": "code",
   "execution_count": 36,
   "metadata": {},
   "outputs": [
    {
     "data": {
      "text/plain": [
       "2"
      ]
     },
     "execution_count": 36,
     "metadata": {},
     "output_type": "execute_result"
    }
   ],
   "source": [
    "from dateutil.relativedelta import relativedelta\n",
    "import time\n",
    "t_a=datetime.datetime.now()\n",
    "time.sleep(2)\n",
    "t_b=datetime.datetime.now()\n",
    "relativedelta(t_b,t_a).seconds\n"
   ]
  },
  {
   "cell_type": "code",
   "execution_count": null,
   "metadata": {},
   "outputs": [],
   "source": []
  }
 ],
 "metadata": {
  "kernelspec": {
   "display_name": "Python 3",
   "language": "python",
   "name": "python3"
  },
  "language_info": {
   "codemirror_mode": {
    "name": "ipython",
    "version": 3
   },
   "file_extension": ".py",
   "mimetype": "text/x-python",
   "name": "python",
   "nbconvert_exporter": "python",
   "pygments_lexer": "ipython3",
   "version": "3.7.0"
  }
 },
 "nbformat": 4,
 "nbformat_minor": 2
}
